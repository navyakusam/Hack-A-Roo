{
  "nbformat": 4,
  "nbformat_minor": 0,
  "metadata": {
    "colab": {
      "name": "project.ipynb",
      "provenance": []
    },
    "kernelspec": {
      "name": "python3",
      "display_name": "Python 3"
    },
    "language_info": {
      "name": "python"
    }
  },
  "cells": [
    {
      "cell_type": "code",
      "metadata": {
        "id": "CJ4pc4yImG-3"
      },
      "source": [
        "# Loading the imported librarues for training the data\n",
        "import numpy\n",
        "from keras.models import Sequential\n",
        "from keras.layers import Dense, Flatten, Dropout, Input, BatchNormalization\n",
        "from keras.constraints import maxnorm\n",
        "from keras.models import Model\n",
        "from keras.optimizers import *\n",
        "from keras.layers.convolutional import Conv2D, MaxPooling2D\n",
        "from keras.utils import np_utils\n",
        "from keras import backend as K\n",
        "\n",
        "# Loading the imported modules to convert image to array\n",
        "import numpy as np\n",
        "import os\n",
        "from matplotlib import pyplot as plt\n",
        "import cv2\n",
        "import random\n",
        "import pickle\n",
        "import glob"
      ],
      "execution_count": null,
      "outputs": []
    },
    {
      "cell_type": "code",
      "metadata": {
        "id": "_vqMpYy31c2l"
      },
      "source": [
        "from google.colab.patches import cv2_imshow"
      ],
      "execution_count": null,
      "outputs": []
    },
    {
      "cell_type": "code",
      "metadata": {
        "colab": {
          "base_uri": "https://localhost:8080/"
        },
        "id": "o5cH689w1hCI",
        "outputId": "3b43b07f-94ac-4df3-a14c-be42d7f480cb"
      },
      "source": [
        "from google.colab import drive\n",
        "drive.mount('/content/drive')"
      ],
      "execution_count": null,
      "outputs": [
        {
          "output_type": "stream",
          "name": "stdout",
          "text": [
            "Drive already mounted at /content/drive; to attempt to forcibly remount, call drive.mount(\"/content/drive\", force_remount=True).\n"
          ]
        }
      ]
    },
    {
      "cell_type": "code",
      "metadata": {
        "id": "WEm6KIjI1x6D"
      },
      "source": [
        "import os\n",
        "os.chdir('/content/drive/MyDrive/project/Hand Gesture Recognition Database Leapmode')"
      ],
      "execution_count": null,
      "outputs": []
    },
    {
      "cell_type": "code",
      "metadata": {
        "id": "90AXJC0e2Di3"
      },
      "source": [
        "img = cv2.imread(\"3/three_1.jpg\", 0)"
      ],
      "execution_count": null,
      "outputs": []
    },
    {
      "cell_type": "code",
      "metadata": {
        "colab": {
          "base_uri": "https://localhost:8080/",
          "height": 81
        },
        "id": "Ejha5ADN2OR0",
        "outputId": "893ffd0d-5190-44b8-fbb8-d76144e1689e"
      },
      "source": [
        "cv2_imshow(img)"
      ],
      "execution_count": null,
      "outputs": [
        {
          "output_type": "display_data",
          "data": {
            "image/png": "[encoded data removed]",
            "text/plain": [
              "<PIL.Image.Image image mode=L size=64x64 at 0x7F8B82A604D0>"
            ]
          },
          "metadata": {}
        }
      ]
    },
    {
      "cell_type": "code",
      "metadata": {
        "id": "0thO1_Py2UDI"
      },
      "source": [
        "IMG_SIZE = 120\n",
        "i = cv2.resize(img, (IMG_SIZE, IMG_SIZE))"
      ],
      "execution_count": null,
      "outputs": []
    },
    {
      "cell_type": "code",
      "metadata": {
        "colab": {
          "base_uri": "https://localhost:8080/",
          "height": 137
        },
        "id": "FPmrpxYnzXN1",
        "outputId": "ca9c6082-578c-4a6f-fd43-863c01c170d9"
      },
      "source": [
        "cv2_imshow(i)"
      ],
      "execution_count": null,
      "outputs": [
        {
          "output_type": "display_data",
          "data": {
            "image/png": "[encoded data removed]",
            "text/plain": [
              "<PIL.Image.Image image mode=L size=120x120 at 0x7F8B82B310D0>"
            ]
          },
          "metadata": {}
        }
      ]
    },
    {
      "cell_type": "code",
      "metadata": {
        "id": "A0g8R5rgzxXX"
      },
      "source": [
        "# Defining the characters\n",
        "category = {\n",
        "    '0': 0,\n",
        "    '1': 1,\n",
        "    '2': 2,\n",
        "    '3': 3,\n",
        "    '4': 4,\n",
        "    '5': 5,\n",
        "    '6': 6,\n",
        "    '7': 7,\n",
        "    '8': 8,\n",
        "    '9': 9,\n",
        "    'C Shape': 10,\n",
        "    'Call me': 11,\n",
        "    'Down': 12,\n",
        "    'fingers_crossed': 13,\n",
        "    'Fist': 14,\n",
        "    'Index': 15,\n",
        "    'L': 16,\n",
        "    'Moved Fist': 17,\n",
        "    'Moved Palm': 18,\n",
        "    'Ok Super': 19,\n",
        "    'Palm': 20,\n",
        "    'Paper Palm': 21,\n",
        "    'Peace': 22,\n",
        "    'Rock Fist': 23,\n",
        "    'scissor': 24,\n",
        "    'Thumb': 25,\n",
        "    'unknown_numbers': 26,\n",
        "    'up': 27,\n",
        "    'YO-YO': 28\n",
        "}"
      ],
      "execution_count": null,
      "outputs": []
    },
    {
      "cell_type": "code",
      "metadata": {
        "colab": {
          "base_uri": "https://localhost:8080/"
        },
        "id": "SzkPKhB91td2",
        "outputId": "12bfce14-14d0-4fdf-cbc3-1d6b1e26e8ca"
      },
      "source": [
        "# Train and Test data collection jpg\n",
        "IMG_SIZE = 120\n",
        "train_data = []\n",
        "test_data = []\n",
        "for c in category:\n",
        "  folder = \"/content/drive/MyDrive/project/Hand Gesture Recognition Database Leapmode/{}\".format(c)\n",
        "  print(folder)\n",
        "  count = 0 \n",
        "  for img in glob.glob(\"{}/*.jpg\".format(folder)):\n",
        "    img = cv2.imread(img, cv2.IMREAD_GRAYSCALE)\n",
        "    img_array = cv2.resize(img, (IMG_SIZE, IMG_SIZE))\n",
        "    if count < 150:\n",
        "      train_data.append([img_array, category[c]])\n",
        "      count += 1\n",
        "    elif count >= 150 and count < 200:\n",
        "      test_data.append([img_array, category[c]])\n",
        "      count += 1\n",
        "    else:\n",
        "      break\n",
        "\n",
        "\n",
        "#png\n",
        "for c in category:\n",
        "  folder = \"/content/drive/MyDrive/project/Hand Gesture Recognition Database Leapmode/{}\".format(c)\n",
        "  print(folder)\n",
        "  count = 0 \n",
        "  for img in glob.glob(\"{}/*.png\".format(folder)):\n",
        "    img = cv2.imread(img, cv2.IMREAD_GRAYSCALE)\n",
        "    img_array = cv2.resize(img, (IMG_SIZE, IMG_SIZE))\n",
        "    if count < 150:\n",
        "      train_data.append([img_array, category[c]])\n",
        "      count += 1\n",
        "    elif count >= 150 and count < 200:\n",
        "      test_data.append([img_array, category[c]])\n",
        "      count += 1\n",
        "    else:\n",
        "      break"
      ],
      "execution_count": null,
      "outputs": [
        {
          "output_type": "stream",
          "name": "stdout",
          "text": [
            "/content/drive/MyDrive/project/Hand Gesture Recognition Database Leapmode/0\n",
            "/content/drive/MyDrive/project/Hand Gesture Recognition Database Leapmode/1\n",
            "/content/drive/MyDrive/project/Hand Gesture Recognition Database Leapmode/2\n",
            "/content/drive/MyDrive/project/Hand Gesture Recognition Database Leapmode/3\n",
            "/content/drive/MyDrive/project/Hand Gesture Recognition Database Leapmode/4\n",
            "/content/drive/MyDrive/project/Hand Gesture Recognition Database Leapmode/5\n",
            "/content/drive/MyDrive/project/Hand Gesture Recognition Database Leapmode/6\n",
            "/content/drive/MyDrive/project/Hand Gesture Recognition Database Leapmode/7\n",
            "/content/drive/MyDrive/project/Hand Gesture Recognition Database Leapmode/8\n",
            "/content/drive/MyDrive/project/Hand Gesture Recognition Database Leapmode/9\n",
            "/content/drive/MyDrive/project/Hand Gesture Recognition Database Leapmode/C Shape\n",
            "/content/drive/MyDrive/project/Hand Gesture Recognition Database Leapmode/Call me\n",
            "/content/drive/MyDrive/project/Hand Gesture Recognition Database Leapmode/Down\n",
            "/content/drive/MyDrive/project/Hand Gesture Recognition Database Leapmode/fingers_crossed\n",
            "/content/drive/MyDrive/project/Hand Gesture Recognition Database Leapmode/Fist\n",
            "/content/drive/MyDrive/project/Hand Gesture Recognition Database Leapmode/Index\n",
            "/content/drive/MyDrive/project/Hand Gesture Recognition Database Leapmode/L\n",
            "/content/drive/MyDrive/project/Hand Gesture Recognition Database Leapmode/Moved Fist\n",
            "/content/drive/MyDrive/project/Hand Gesture Recognition Database Leapmode/Moved Palm\n",
            "/content/drive/MyDrive/project/Hand Gesture Recognition Database Leapmode/Ok Super\n",
            "/content/drive/MyDrive/project/Hand Gesture Recognition Database Leapmode/Palm\n",
            "/content/drive/MyDrive/project/Hand Gesture Recognition Database Leapmode/Paper Palm\n",
            "/content/drive/MyDrive/project/Hand Gesture Recognition Database Leapmode/Peace\n",
            "/content/drive/MyDrive/project/Hand Gesture Recognition Database Leapmode/Rock Fist\n",
            "/content/drive/MyDrive/project/Hand Gesture Recognition Database Leapmode/scissor\n",
            "/content/drive/MyDrive/project/Hand Gesture Recognition Database Leapmode/Thumb\n",
            "/content/drive/MyDrive/project/Hand Gesture Recognition Database Leapmode/unknown_numbers\n",
            "/content/drive/MyDrive/project/Hand Gesture Recognition Database Leapmode/up\n",
            "/content/drive/MyDrive/project/Hand Gesture Recognition Database Leapmode/YO-YO\n",
            "/content/drive/MyDrive/project/Hand Gesture Recognition Database Leapmode/0\n",
            "/content/drive/MyDrive/project/Hand Gesture Recognition Database Leapmode/1\n",
            "/content/drive/MyDrive/project/Hand Gesture Recognition Database Leapmode/2\n",
            "/content/drive/MyDrive/project/Hand Gesture Recognition Database Leapmode/3\n",
            "/content/drive/MyDrive/project/Hand Gesture Recognition Database Leapmode/4\n",
            "/content/drive/MyDrive/project/Hand Gesture Recognition Database Leapmode/5\n",
            "/content/drive/MyDrive/project/Hand Gesture Recognition Database Leapmode/6\n",
            "/content/drive/MyDrive/project/Hand Gesture Recognition Database Leapmode/7\n",
            "/content/drive/MyDrive/project/Hand Gesture Recognition Database Leapmode/8\n",
            "/content/drive/MyDrive/project/Hand Gesture Recognition Database Leapmode/9\n",
            "/content/drive/MyDrive/project/Hand Gesture Recognition Database Leapmode/C Shape\n",
            "/content/drive/MyDrive/project/Hand Gesture Recognition Database Leapmode/Call me\n",
            "/content/drive/MyDrive/project/Hand Gesture Recognition Database Leapmode/Down\n",
            "/content/drive/MyDrive/project/Hand Gesture Recognition Database Leapmode/fingers_crossed\n",
            "/content/drive/MyDrive/project/Hand Gesture Recognition Database Leapmode/Fist\n",
            "/content/drive/MyDrive/project/Hand Gesture Recognition Database Leapmode/Index\n",
            "/content/drive/MyDrive/project/Hand Gesture Recognition Database Leapmode/L\n",
            "/content/drive/MyDrive/project/Hand Gesture Recognition Database Leapmode/Moved Fist\n",
            "/content/drive/MyDrive/project/Hand Gesture Recognition Database Leapmode/Moved Palm\n",
            "/content/drive/MyDrive/project/Hand Gesture Recognition Database Leapmode/Ok Super\n",
            "/content/drive/MyDrive/project/Hand Gesture Recognition Database Leapmode/Palm\n",
            "/content/drive/MyDrive/project/Hand Gesture Recognition Database Leapmode/Paper Palm\n",
            "/content/drive/MyDrive/project/Hand Gesture Recognition Database Leapmode/Peace\n",
            "/content/drive/MyDrive/project/Hand Gesture Recognition Database Leapmode/Rock Fist\n",
            "/content/drive/MyDrive/project/Hand Gesture Recognition Database Leapmode/scissor\n",
            "/content/drive/MyDrive/project/Hand Gesture Recognition Database Leapmode/Thumb\n",
            "/content/drive/MyDrive/project/Hand Gesture Recognition Database Leapmode/unknown_numbers\n",
            "/content/drive/MyDrive/project/Hand Gesture Recognition Database Leapmode/up\n",
            "/content/drive/MyDrive/project/Hand Gesture Recognition Database Leapmode/YO-YO\n"
          ]
        }
      ]
    },
    {
      "cell_type": "code",
      "metadata": {
        "id": "p4OMo5ed_261"
      },
      "source": [
        "import pandas as pd"
      ],
      "execution_count": null,
      "outputs": []
    },
    {
      "cell_type": "code",
      "metadata": {
        "id": "1sJ37xblcJr6"
      },
      "source": [
        "# Create the pandas DataFrame train and test\n",
        "df = pd.DataFrame(train_data, columns = ['image', 'category'])\n",
        "  \n",
        "# print dataframe.\n",
        "df.to_csv(\"/content/drive/MyDrive/project/train_data.csv\")"
      ],
      "execution_count": null,
      "outputs": []
    },
    {
      "cell_type": "code",
      "metadata": {
        "id": "3aINPSp6fC98"
      },
      "source": [
        "# Create the pandas DataFrame train and test\n",
        "df = pd.DataFrame(test_data, columns = ['image', 'category'])\n",
        "  \n",
        "# print dataframe.\n",
        "df.to_csv(\"/content/drive/MyDrive/project/test_data.csv\")"
      ],
      "execution_count": null,
      "outputs": []
    },
    {
      "cell_type": "code",
      "metadata": {
        "id": "hExXHkinf1ks"
      },
      "source": [
        "# random shuffling of train and test data\n",
        "random.shuffle(train_data)\n",
        "random.shuffle(test_data)"
      ],
      "execution_count": null,
      "outputs": []
    },
    {
      "cell_type": "code",
      "metadata": {
        "id": "C8Qx5i-uldEw"
      },
      "source": [
        "X_train = []\n",
        "y_train = []\n",
        "X_test = []\n",
        "y_test = []\n",
        "for im in train_data:\n",
        "  X_train.append(im[0])\n",
        "  y_train.append(im[1])\n",
        "for im in test_data:\n",
        "  X_test.append(im[0])\n",
        "  y_test.append(im[1])"
      ],
      "execution_count": null,
      "outputs": []
    },
    {
      "cell_type": "code",
      "metadata": {
        "id": "aVqnZ9MplmIw"
      },
      "source": [
        "X_train = np.array(X_train)\n",
        "y_train = np.array(y_train)\n",
        "X_test = np.array(X_test)\n",
        "y_test = np.array(y_test)"
      ],
      "execution_count": null,
      "outputs": []
    },
    {
      "cell_type": "code",
      "metadata": {
        "colab": {
          "base_uri": "https://localhost:8080/"
        },
        "id": "XuWv5hzgmHEP",
        "outputId": "ac513d5e-1f42-4bc2-a6ab-1605aaddd574"
      },
      "source": [
        "print(X_train.shape)\n",
        "print(y_train.shape)\n",
        "print(X_test.shape)\n",
        "print(y_test.shape)"
      ],
      "execution_count": null,
      "outputs": [
        {
          "output_type": "stream",
          "name": "stdout",
          "text": [
            "(4650, 120, 120)\n",
            "(4650,)\n",
            "(1550, 120, 120)\n",
            "(1550,)\n"
          ]
        }
      ]
    },
    {
      "cell_type": "code",
      "metadata": {
        "colab": {
          "base_uri": "https://localhost:8080/"
        },
        "id": "NB3Gqy0Onu1o",
        "outputId": "1024355b-0898-474f-992b-6e549fbaaf5b"
      },
      "source": [
        "X_train[3]"
      ],
      "execution_count": null,
      "outputs": [
        {
          "output_type": "execute_result",
          "data": {
            "text/plain": [
              "array([[225, 231, 244, ..., 104, 109, 112],\n",
              "       [225, 231, 244, ..., 116, 119, 120],\n",
              "       [225, 231, 245, ..., 119, 123, 124],\n",
              "       ...,\n",
              "       [101, 101, 101, ...,  53,  50,  49],\n",
              "       [102, 102, 101, ...,  54,  52,  52],\n",
              "       [101, 101, 101, ...,  53,  52,  51]], dtype=uint8)"
            ]
          },
          "metadata": {},
          "execution_count": 64
        }
      ]
    },
    {
      "cell_type": "code",
      "metadata": {
        "id": "jLvPfW7imhTn"
      },
      "source": [
        "#converting int to float\n",
        "X_train = X_train.astype('float32')\n",
        "X_test = X_test.astype('float32')"
      ],
      "execution_count": null,
      "outputs": []
    },
    {
      "cell_type": "code",
      "metadata": {
        "colab": {
          "base_uri": "https://localhost:8080/"
        },
        "id": "tp83Nseln0RC",
        "outputId": "a292488b-186e-4862-fbbf-c1db46341536"
      },
      "source": [
        "X_train[3]"
      ],
      "execution_count": null,
      "outputs": [
        {
          "output_type": "execute_result",
          "data": {
            "text/plain": [
              "array([[225., 231., 244., ..., 104., 109., 112.],\n",
              "       [225., 231., 244., ..., 116., 119., 120.],\n",
              "       [225., 231., 245., ..., 119., 123., 124.],\n",
              "       ...,\n",
              "       [101., 101., 101., ...,  53.,  50.,  49.],\n",
              "       [102., 102., 101., ...,  54.,  52.,  52.],\n",
              "       [101., 101., 101., ...,  53.,  52.,  51.]], dtype=float32)"
            ]
          },
          "metadata": {},
          "execution_count": 66
        }
      ]
    },
    {
      "cell_type": "code",
      "metadata": {
        "colab": {
          "base_uri": "https://localhost:8080/"
        },
        "id": "PTTPgYXbn1q5",
        "outputId": "28ccb870-13ad-4660-96ba-41cfce6d8644"
      },
      "source": [
        "y_train = np.array(y_train).reshape(len(y_train),1)\n",
        "y_train"
      ],
      "execution_count": null,
      "outputs": [
        {
          "output_type": "execute_result",
          "data": {
            "text/plain": [
              "array([[ 7],\n",
              "       [14],\n",
              "       [16],\n",
              "       ...,\n",
              "       [15],\n",
              "       [24],\n",
              "       [24]])"
            ]
          },
          "metadata": {},
          "execution_count": 67
        }
      ]
    },
    {
      "cell_type": "code",
      "metadata": {
        "colab": {
          "base_uri": "https://localhost:8080/"
        },
        "id": "e24gkS9toJpR",
        "outputId": "fa4f9842-cffe-438c-dea5-65edd957bf82"
      },
      "source": [
        "y_test = np.array(y_test).reshape(len(y_test),1)\n",
        "y_test"
      ],
      "execution_count": null,
      "outputs": [
        {
          "output_type": "execute_result",
          "data": {
            "text/plain": [
              "array([[13],\n",
              "       [24],\n",
              "       [20],\n",
              "       ...,\n",
              "       [18],\n",
              "       [16],\n",
              "       [18]])"
            ]
          },
          "metadata": {},
          "execution_count": 68
        }
      ]
    },
    {
      "cell_type": "code",
      "metadata": {
        "colab": {
          "base_uri": "https://localhost:8080/"
        },
        "id": "MNDbxIuJoonP",
        "outputId": "09fe520c-83f8-4eaa-ecdd-5c8fd7439baf"
      },
      "source": [
        "y_train = np_utils.to_categorical(y_train)\n",
        "y_test = np_utils.to_categorical(y_test)\n",
        "num_classes = y_train.shape[1]\n",
        "num_classes"
      ],
      "execution_count": null,
      "outputs": [
        {
          "output_type": "execute_result",
          "data": {
            "text/plain": [
              "29"
            ]
          },
          "metadata": {},
          "execution_count": 69
        }
      ]
    },
    {
      "cell_type": "code",
      "metadata": {
        "colab": {
          "base_uri": "https://localhost:8080/"
        },
        "id": "gw2SYTvbx8xd",
        "outputId": "2da85a78-bd58-41d3-da87-d91553e1e427"
      },
      "source": [
        "y_test"
      ],
      "execution_count": null,
      "outputs": [
        {
          "output_type": "execute_result",
          "data": {
            "text/plain": [
              "array([[0., 0., 0., ..., 0., 0., 0.],\n",
              "       [0., 0., 0., ..., 0., 0., 0.],\n",
              "       [0., 0., 0., ..., 0., 0., 0.],\n",
              "       ...,\n",
              "       [0., 0., 0., ..., 0., 0., 0.],\n",
              "       [0., 0., 0., ..., 0., 0., 0.],\n",
              "       [0., 0., 0., ..., 0., 0., 0.]], dtype=float32)"
            ]
          },
          "metadata": {},
          "execution_count": 70
        }
      ]
    },
    {
      "cell_type": "code",
      "metadata": {
        "colab": {
          "base_uri": "https://localhost:8080/"
        },
        "id": "fKCVNULlyFDh",
        "outputId": "a1224fdd-5b12-4567-f78e-19ef619921cd"
      },
      "source": [
        "y_train"
      ],
      "execution_count": null,
      "outputs": [
        {
          "output_type": "execute_result",
          "data": {
            "text/plain": [
              "array([[0., 0., 0., ..., 0., 0., 0.],\n",
              "       [0., 0., 0., ..., 0., 0., 0.],\n",
              "       [0., 0., 0., ..., 0., 0., 0.],\n",
              "       ...,\n",
              "       [0., 0., 0., ..., 0., 0., 0.],\n",
              "       [0., 0., 0., ..., 0., 0., 0.],\n",
              "       [0., 0., 0., ..., 0., 0., 0.]], dtype=float32)"
            ]
          },
          "metadata": {},
          "execution_count": 71
        }
      ]
    },
    {
      "cell_type": "code",
      "metadata": {
        "id": "MnbIzFA_o3l3"
      },
      "source": [
        "X_train = X_train.reshape((len(X_train), 120, 120, 1))\n",
        "X_train /= 255"
      ],
      "execution_count": null,
      "outputs": []
    },
    {
      "cell_type": "code",
      "metadata": {
        "id": "ZsKQkJfso7fn"
      },
      "source": [
        "X_test = X_test.reshape((len(X_test), 120, 120, 1))\n",
        "X_test /= 255"
      ],
      "execution_count": null,
      "outputs": []
    },
    {
      "cell_type": "code",
      "metadata": {
        "id": "Cfbbf_IHpsNw"
      },
      "source": [
        "# model=Sequential()\n",
        "# model.add(Conv2D(32, (3, 3), strides=(2, 2), activation='relu', padding=\"same\", input_shape=(120, 120,1))) \n",
        "# model.add(Dropout(0.5))\n",
        "# model.add(MaxPooling2D((2, 2)))\n",
        "# model.add(Conv2D(64, (3, 3), activation='relu')) \n",
        "# model.add(MaxPooling2D((2, 2)))\n",
        "# model.add(Conv2D(64, (3, 3), activation='relu'))\n",
        "# model.add(MaxPooling2D((2, 2)))\n",
        "# model.add(Flatten())\n",
        "# model.add(Dense(128, activation='relu'))\n",
        "# model.add(Dense(num_classes, activation='softmax'))\n",
        "\n",
        "model=Sequential()\n",
        "model.add(Conv2D(32, (5, 5), strides=(2, 2), activation='relu', input_shape=(120, 120,1))) \n",
        "model.add(MaxPooling2D((2, 2)))\n",
        "model.add(Conv2D(64, (3, 3), activation='relu')) \n",
        "model.add(MaxPooling2D((2, 2)))\n",
        "model.add(Conv2D(64, (3, 3), activation='relu'))\n",
        "model.add(MaxPooling2D((2, 2)))\n",
        "model.add(Flatten())\n",
        "model.add(Dense(128, activation='relu'))\n",
        "model.add(Dense(num_classes, activation='softmax'))"
      ],
      "execution_count": null,
      "outputs": []
    },
    {
      "cell_type": "code",
      "metadata": {
        "id": "LkypMFTkqOG3"
      },
      "source": [
        "epochs = 10\n",
        "lrate = 0.001\n",
        "adam = tf.keras.optimizers.Adam(learning_rate=lrate)\n",
        "model.compile(loss='categorical_crossentropy', optimizer=adam, metrics=['accuracy'])"
      ],
      "execution_count": null,
      "outputs": []
    },
    {
      "cell_type": "code",
      "metadata": {
        "colab": {
          "base_uri": "https://localhost:8080/"
        },
        "id": "pKBd-9aPxLbX",
        "outputId": "3d853c78-54b6-4758-d467-3a6b8c630db6"
      },
      "source": [
        "print(model.summary())"
      ],
      "execution_count": null,
      "outputs": [
        {
          "output_type": "stream",
          "name": "stdout",
          "text": [
            "Model: \"sequential\"\n",
            "_________________________________________________________________\n",
            " Layer (type)                Output Shape              Param #   \n",
            "=================================================================\n",
            " conv2d (Conv2D)             (None, 58, 58, 32)        832       \n",
            "                                                                 \n",
            " max_pooling2d (MaxPooling2D  (None, 29, 29, 32)       0         \n",
            " )                                                               \n",
            "                                                                 \n",
            " conv2d_1 (Conv2D)           (None, 27, 27, 64)        18496     \n",
            "                                                                 \n",
            " max_pooling2d_1 (MaxPooling  (None, 13, 13, 64)       0         \n",
            " 2D)                                                             \n",
            "                                                                 \n",
            " conv2d_2 (Conv2D)           (None, 11, 11, 64)        36928     \n",
            "                                                                 \n",
            " max_pooling2d_2 (MaxPooling  (None, 5, 5, 64)         0         \n",
            " 2D)                                                             \n",
            "                                                                 \n",
            " flatten (Flatten)           (None, 1600)              0         \n",
            "                                                                 \n",
            " dense (Dense)               (None, 128)               204928    \n",
            "                                                                 \n",
            " dense_1 (Dense)             (None, 29)                3741      \n",
            "                                                                 \n",
            "=================================================================\n",
            "Total params: 264,925\n",
            "Trainable params: 264,925\n",
            "Non-trainable params: 0\n",
            "_________________________________________________________________\n",
            "None\n"
          ]
        }
      ]
    },
    {
      "cell_type": "code",
      "metadata": {
        "colab": {
          "base_uri": "https://localhost:8080/",
          "height": 953
        },
        "id": "UpsDNX3_xN7h",
        "outputId": "53b31fca-c8af-4113-b735-48b3504d11dd"
      },
      "source": [
        "from keras.utils.vis_utils import plot_model\n",
        "plot_model(model)"
      ],
      "execution_count": null,
      "outputs": [
        {
          "output_type": "execute_result",
          "data": {
            "image/png": "[encoded data removed]",
            "text/plain": [
              "<IPython.core.display.Image object>"
            ]
          },
          "metadata": {},
          "execution_count": 77
        }
      ]
    },
    {
      "cell_type": "code",
      "metadata": {
        "colab": {
          "base_uri": "https://localhost:8080/"
        },
        "id": "3YOfyTbYxWAB",
        "outputId": "d03f7429-5036-42d3-c498-45d2ba6705b9"
      },
      "source": [
        "history = model.fit(X_train, y_train, validation_data=(X_test, y_test), epochs=epochs, batch_size=128, verbose=1)"
      ],
      "execution_count": null,
      "outputs": [
        {
          "output_type": "stream",
          "name": "stdout",
          "text": [
            "Epoch 1/10\n",
            "37/37 [==============================] - 23s 610ms/step - loss: 2.4259 - accuracy: 0.3013 - val_loss: 1.5321 - val_accuracy: 0.5471\n",
            "Epoch 2/10\n",
            "37/37 [==============================] - 22s 603ms/step - loss: 1.0763 - accuracy: 0.6581 - val_loss: 1.1496 - val_accuracy: 0.6406\n",
            "Epoch 3/10\n",
            "37/37 [==============================] - 22s 597ms/step - loss: 0.6784 - accuracy: 0.7824 - val_loss: 0.9037 - val_accuracy: 0.7232\n",
            "Epoch 4/10\n",
            "37/37 [==============================] - 22s 590ms/step - loss: 0.4807 - accuracy: 0.8482 - val_loss: 0.8520 - val_accuracy: 0.7432\n",
            "Epoch 5/10\n",
            "37/37 [==============================] - 22s 591ms/step - loss: 0.3534 - accuracy: 0.8860 - val_loss: 0.9408 - val_accuracy: 0.7381\n",
            "Epoch 6/10\n",
            "37/37 [==============================] - 22s 584ms/step - loss: 0.3096 - accuracy: 0.8985 - val_loss: 0.8269 - val_accuracy: 0.7884\n",
            "Epoch 7/10\n",
            "37/37 [==============================] - 22s 588ms/step - loss: 0.2202 - accuracy: 0.9357 - val_loss: 0.9110 - val_accuracy: 0.7858\n",
            "Epoch 8/10\n",
            "37/37 [==============================] - 22s 589ms/step - loss: 0.1762 - accuracy: 0.9499 - val_loss: 0.8007 - val_accuracy: 0.8103\n",
            "Epoch 9/10\n",
            "37/37 [==============================] - 22s 599ms/step - loss: 0.1289 - accuracy: 0.9589 - val_loss: 0.9279 - val_accuracy: 0.8232\n",
            "Epoch 10/10\n",
            "37/37 [==============================] - 22s 593ms/step - loss: 0.1003 - accuracy: 0.9731 - val_loss: 0.9779 - val_accuracy: 0.8148\n"
          ]
        }
      ]
    },
    {
      "cell_type": "code",
      "metadata": {
        "colab": {
          "base_uri": "https://localhost:8080/"
        },
        "id": "QfsdkMgexes8",
        "outputId": "4267348e-db6b-42b2-f6b8-c97df6746986"
      },
      "source": [
        "scores = model.evaluate(X_test, y_test, verbose=0)\n",
        "print(\"Accuracy: %.2f%%\" % (scores[1]*100))"
      ],
      "execution_count": null,
      "outputs": [
        {
          "output_type": "stream",
          "name": "stdout",
          "text": [
            "Accuracy: 76.90%\n"
          ]
        }
      ]
    },
    {
      "cell_type": "code",
      "metadata": {
        "colab": {
          "base_uri": "https://localhost:8080/"
        },
        "id": "DtexjxjvxlIH",
        "outputId": "0dac11f2-5791-450b-93b5-3e259b28601f"
      },
      "source": [
        "!pip install visualkeras\n",
        "import visualkeras"
      ],
      "execution_count": null,
      "outputs": [
        {
          "output_type": "stream",
          "name": "stdout",
          "text": [
            "Collecting visualkeras\n",
            "  Downloading visualkeras-0.0.2-py3-none-any.whl (12 kB)\n",
            "Requirement already satisfied: numpy>=1.18.1 in /usr/local/lib/python3.7/dist-packages (from visualkeras) (1.19.5)\n",
            "Requirement already satisfied: pillow>=6.2.0 in /usr/local/lib/python3.7/dist-packages (from visualkeras) (7.1.2)\n",
            "Collecting aggdraw>=1.3.11\n",
            "  Downloading aggdraw-1.3.12-cp37-cp37m-manylinux2010_x86_64.whl (795 kB)\n",
            "\u001b[K     |████████████████████████████████| 795 kB 4.0 MB/s \n",
            "\u001b[?25hInstalling collected packages: aggdraw, visualkeras\n",
            "Successfully installed aggdraw-1.3.12 visualkeras-0.0.2\n"
          ]
        }
      ]
    },
    {
      "cell_type": "code",
      "metadata": {
        "colab": {
          "base_uri": "https://localhost:8080/",
          "height": 327
        },
        "id": "MCsxHZeo1BMf",
        "outputId": "3ea4151c-080e-4482-88e7-76a3fc51bb17"
      },
      "source": [
        "visualkeras.layered_view(model)"
      ],
      "execution_count": null,
      "outputs": [
        {
          "output_type": "execute_result",
          "data": {
            "image/png": "[encoded data removed]",
            "text/plain": [
              "<PIL.Image.Image image mode=RGBA size=463x310 at 0x7F48031F8190>"
            ]
          },
          "metadata": {},
          "execution_count": 199
        }
      ]
    },
    {
      "cell_type": "code",
      "metadata": {
        "id": "Rp-SilzP1FKH"
      },
      "source": [
        "IMG_SIZE = 120\n",
        "\n",
        "test_image = \"/content/drive/MyDrive/project/Hand Gesture Recognition Database Leapmode/9/nine_1480.jpg\"\n",
        "ia = cv2.imread(test_image, cv2.IMREAD_GRAYSCALE)\n",
        "ia = cv2.resize(ia, (IMG_SIZE, IMG_SIZE))\n",
        "    "
      ],
      "execution_count": null,
      "outputs": []
    },
    {
      "cell_type": "code",
      "metadata": {
        "id": "2QgWuJFP2Bww"
      },
      "source": [
        "predict = np.array(ia).reshape(-1, IMG_SIZE, IMG_SIZE, 1)\n",
        "predict = predict.astype('float32')\n",
        "predict /= 255"
      ],
      "execution_count": null,
      "outputs": []
    },
    {
      "cell_type": "code",
      "metadata": {
        "colab": {
          "base_uri": "https://localhost:8080/"
        },
        "id": "Pfy5twBW2Coy",
        "outputId": "dd552d37-78e3-438e-a898-7c262278be07"
      },
      "source": [
        "np.argmax(model.predict(predict.reshape(-1, 120, 120, 1)))"
      ],
      "execution_count": null,
      "outputs": [
        {
          "output_type": "execute_result",
          "data": {
            "text/plain": [
              "9"
            ]
          },
          "metadata": {},
          "execution_count": 202
        }
      ]
    },
    {
      "cell_type": "code",
      "metadata": {
        "id": "Dyg86CS72tXG"
      },
      "source": [
        "IMG_SIZE = 120\n",
        "test_image = \"/content/drive/MyDrive/project/Hand Gesture Recognition Database Leapmode/up/9317.jpg\"\n",
        "ia = cv2.imread(test_image, cv2.IMREAD_GRAYSCALE)\n",
        "ia = cv2.resize(ia, (IMG_SIZE, IMG_SIZE))"
      ],
      "execution_count": null,
      "outputs": []
    },
    {
      "cell_type": "code",
      "metadata": {
        "id": "AoXVisHb2vGg"
      },
      "source": [
        "predict = np.array(ia).reshape(-1, IMG_SIZE, IMG_SIZE, 1)\n",
        "predict = predict.astype('float32')\n",
        "predict /= 255"
      ],
      "execution_count": null,
      "outputs": []
    },
    {
      "cell_type": "code",
      "metadata": {
        "colab": {
          "base_uri": "https://localhost:8080/"
        },
        "id": "G_M2wJqs4yeH",
        "outputId": "524b2b8e-fe61-4807-8400-dc277d0966d3"
      },
      "source": [
        "np.argmax(model.predict(predict.reshape(-1, 120, 120, 1)))"
      ],
      "execution_count": null,
      "outputs": [
        {
          "output_type": "execute_result",
          "data": {
            "text/plain": [
              "27"
            ]
          },
          "metadata": {},
          "execution_count": 205
        }
      ]
    },
    {
      "cell_type": "code",
      "metadata": {
        "id": "sTZT4the40kb"
      },
      "source": [
        "category = {\n",
        "    '0': 0,\n",
        "    '1': 1,\n",
        "    '2': 2,\n",
        "    '3': 3,\n",
        "    '4': 4,\n",
        "    '5': 5,\n",
        "    '6': 6,\n",
        "    '7': 7,\n",
        "    '8': 8,\n",
        "    '9': 9,\n",
        "    'C Shape': 10,\n",
        "    'Call me': 11,\n",
        "    'Down': 12,\n",
        "    'fingers_crossed': 13,\n",
        "    'Fist': 14,\n",
        "    'Index': 15,\n",
        "    'L': 16,\n",
        "    'Moved Fist': 17,\n",
        "    'Moved Palm': 18,\n",
        "    'Ok Super': 19,\n",
        "    'Palm': 20,\n",
        "    'Paper Palm': 21,\n",
        "    'Peace': 22,\n",
        "    'Rock Fist': 23,\n",
        "    'scissor': 24,\n",
        "    'Thumb': 25,\n",
        "    'unknown_numbers': 26,\n",
        "    'up': 27,\n",
        "    'YO-YO': 28\n",
        "}"
      ],
      "execution_count": null,
      "outputs": []
    },
    {
      "cell_type": "code",
      "metadata": {
        "colab": {
          "base_uri": "https://localhost:8080/"
        },
        "id": "ut7BFWME9jGL",
        "outputId": "21103cb4-4c25-48e9-c1c2-ed2c949d0020"
      },
      "source": [
        "IMG_SIZE = 120\n",
        "test_image = \"/content/drive/MyDrive/project/Hand Gesture Recognition Database Leapmode/scissor/610.jpg\"\n",
        "ia = cv2.imread(test_image, cv2.IMREAD_GRAYSCALE)\n",
        "ia = cv2.resize(ia, (IMG_SIZE, IMG_SIZE))\n",
        "predict = np.array(ia).reshape(-1, IMG_SIZE, IMG_SIZE, 1)\n",
        "predict = predict.astype('float32')\n",
        "predict /= 255\n",
        "np.argmax(model.predict(predict.reshape(-1, 120, 120, 1)))"
      ],
      "execution_count": null,
      "outputs": [
        {
          "output_type": "execute_result",
          "data": {
            "text/plain": [
              "24"
            ]
          },
          "metadata": {},
          "execution_count": 207
        }
      ]
    },
    {
      "cell_type": "code",
      "metadata": {
        "id": "C8VRNHSA9i7g"
      },
      "source": [
        "#Saving the model\n",
        "model.save(\"/content/drive/MyDrive/project/Hand Gesture Recognition Database Leapmode/model.h5\")"
      ],
      "execution_count": null,
      "outputs": []
    }
  ]
}